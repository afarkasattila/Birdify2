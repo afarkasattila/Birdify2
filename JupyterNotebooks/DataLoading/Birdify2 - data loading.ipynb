{
 "cells": [
  {
   "cell_type": "markdown",
   "metadata": {},
   "source": [
    "# Birdify2 \n",
    "### Data loading demo\n",
    "\n",
    "![](birdify.png)\n",
    "\n",
    "In order to be able to run this notebook you will need **Python 3** and the following packages:\n",
    "* **Tensorflow 1.12.0**\n",
    "* **PyDub 0.23.0**\n",
    "* **Pillow 4.0.0**\n",
    "* ~~**Basemap 1.2.0** *(optional)*~~\n",
    "\n",
    "You should also have installed **ffmpeg** or **avconv**."
   ]
  },
  {
   "cell_type": "code",
   "execution_count": null,
   "metadata": {},
   "outputs": [],
   "source": [
    "# Load the raw meta data of birds from the xeno-canto page.\n",
    "\n",
    "import preprocessing.sounds.download_birdify_data as bd\n",
    "\n",
    "_URL_IF_EMPTY = \"http://www.xeno-canto.org/api/2/recordings?query=q:a\"\n",
    "\n",
    "url=_URL_IF_EMPTY\n",
    "\n",
    "fetcher = bd.FetchData()\n",
    "nr_of_pgs = fetcher.get_nr_of_pages(url)\n",
    "recordings = fetcher.get_records_by_area(nr_of_pgs, url)\n",
    "\n",
    "print(\"Metadata loaded successfully!\")"
   ]
  },
  {
   "cell_type": "code",
   "execution_count": null,
   "metadata": {},
   "outputs": [],
   "source": [
    "# Print the basic statistics and the content of a randomly chosen record.\n",
    "\n",
    "import random as r\n",
    "\n",
    "print(\"Number of pages: \", nr_of_pgs)\n",
    "print(\"The number of records loaded: \", len(recordings))\n",
    "\n",
    "print(\"A random record content:\\n\", recordings[r.randint(0, len(recordings) - 1)])\n"
   ]
  },
  {
   "cell_type": "code",
   "execution_count": null,
   "metadata": {},
   "outputs": [],
   "source": [
    "# Draw the geographical distribution of the loaded species.\n",
    "import matplotlib.pyplot as plt\n",
    "import numpy as np\n",
    "\n",
    "countries = {}\n",
    "plt.subplots(figsize=(20, 20))  \n",
    "for r in recordings:\n",
    "  \n",
    "    if \"lat\" in r and \"lng\" in r and r[\"lat\"] != None and r[\"lng\"] != None:\n",
    "    \n",
    "        # Check against latitudes and longitudes which lie outside the [-90, 90] interval.\n",
    "        if float(r[\"lat\"]) > 90 or float(r[\"lat\"]) < -90 or float(r[\"lng\"]) > 90 or float(r[\"lng\"]) < -90:\n",
    "            #print (\"Faulty value: \", r[\"en\"], \" \", r[\"cnt\"], \" \", r[\"lat\"], \" \", r[\"lng\"])\n",
    "            continue        \n",
    "        \n",
    "        # Add the country name to a dictionary    \n",
    "        countries[r[\"cnt\"]] = \"\"\n",
    "    \n",
    "        # Add the coordinate to the plot.\n",
    "        plt.scatter(float(r[\"lng\"]), float(r[\"lat\"]))            \n",
    "        \n",
    "plt.show()    "
   ]
  },
  {
   "cell_type": "code",
   "execution_count": null,
   "metadata": {},
   "outputs": [],
   "source": [
    "#Display the list of countries where the samples were recorded.\n",
    "print (\"Countries from where the samples are: \")  \n",
    "for k, v in countries.items():\n",
    "    print (k)"
   ]
  },
  {
   "cell_type": "code",
   "execution_count": null,
   "metadata": {},
   "outputs": [],
   "source": [
    "# Download the sounds and ceate spectrograms for four randomly selected bird species. \n",
    "from preprocessing.download_and_convert_birdify import create_spectro_for_records\n",
    "\n",
    "number_of_selected_species = 4\n",
    "\n",
    "idxs = np.random.choice(len(recordings), number_of_selected_species, replace=False)\n",
    "selected_recordings = [recordings[i] for i in idxs]\n",
    "\n",
    "create_spectro_for_records(selected_recordings)\n"
   ]
  },
  {
   "cell_type": "code",
   "execution_count": null,
   "metadata": {},
   "outputs": [],
   "source": [
    "from PIL import Image\n",
    "from os import listdir\n",
    "from os.path import isfile, join\n",
    "\n",
    "number_of_spectrograms_to_show = 3\n",
    "\n",
    "image_size = 224\n",
    "xtickvalues = [None] * image_size\n",
    "xtickvalues[0] = 0\n",
    "xtickvalues[image_size // 3] = 1\n",
    "xtickvalues[image_size // 3 * 2] = 2\n",
    "xtickvalues[image_size - 1] = 3\n",
    "\n",
    "ytickvalues = [None] * image_size\n",
    "ytickvalues[0] = 44100\n",
    "ytickvalues[image_size // 2] = 22050\n",
    "ytickvalues[image_size - 1] = 0\n",
    "\n",
    "f, axarr = plt.subplots(number_of_selected_species, number_of_spectrograms_to_show, figsize=(20, 20))\n",
    "for i in range(number_of_selected_species):\n",
    "    directory_name = \"spectrograms\\\\\" + selected_recordings[i][\"gen\"] + \"_\" + selected_recordings[i][\"sp\"] + \"\\\\\";\n",
    "    spectrogram_files = [f for f in listdir(directory_name) if isfile(join(directory_name, f))]\n",
    "    \n",
    "    for j in range(number_of_spectrograms_to_show):\n",
    "        \n",
    "        if j >= len(spectrogram_files):\n",
    "            axarr[i,j].remove()\n",
    "            continue\n",
    "            \n",
    "        im_frame = Image.open(directory_name + spectrogram_files[j])        \n",
    "        np_frame = np.array(im_frame.getdata())\n",
    "        np_frame = np_frame.reshape(im_frame.size[0], im_frame.size[1], 4)\n",
    "\n",
    "        axarr[i,j].set_title(selected_recordings[i][\"gen\"] + \" - \" + selected_recordings[i][\"sp\"] + \" (\" + spectrogram_files[j] + \")\")\n",
    "        axarr[i,j].set_xlabel(\"Time (s)\")\n",
    "        axarr[i,j].set_ylabel(\"Frequency (Hz)\")\n",
    "        axarr[i,j].imshow(np_frame)\n",
    "\n",
    "        plt.sca(axarr[i, j])\n",
    "        plt.xticks(range(224), xtickvalues)\n",
    "        plt.yticks(range(224), ytickvalues)\n",
    "\n",
    "plt.show()"
   ]
  },
  {
   "cell_type": "code",
   "execution_count": null,
   "metadata": {},
   "outputs": [],
   "source": []
  }
 ],
 "metadata": {
  "kernelspec": {
   "display_name": "Python 3",
   "language": "python",
   "name": "python3"
  },
  "language_info": {
   "codemirror_mode": {
    "name": "ipython",
    "version": 3
   },
   "file_extension": ".py",
   "mimetype": "text/x-python",
   "name": "python",
   "nbconvert_exporter": "python",
   "pygments_lexer": "ipython3",
   "version": "3.6.6"
  }
 },
 "nbformat": 4,
 "nbformat_minor": 2
}
